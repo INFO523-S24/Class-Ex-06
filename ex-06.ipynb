{
 "cells": [
  {
   "cell_type": "markdown",
   "metadata": {},
   "source": [
    "---\n",
    "  title: \"Ex-06\"\n",
    "  author: \"TANYA EVITA GEORGE\"\n",
    "  format:\n",
    "    html:\n",
    "      embed-resources: true\n",
    "  toc: true\n",
    "  jupyter: python3\n",
    "---"
   ]
  },
  {
   "cell_type": "markdown",
   "metadata": {},
   "source": [
    "## Step 1: Setup and Data Preprocessing\n",
    "\n",
    "- Start by importing the necessary libraries and load the spam.csv dataset.\n",
    "\n",
    "- Preprocess the data by encoding categorical variables, defining features and target, and splitting the data into training and testing sets. Finally, apply PCA to reduce dimensionality."
   ]
  },
  {
   "cell_type": "code",
   "execution_count": null,
   "metadata": {},
   "outputs": [],
   "source": [
    "# Import libraries\n",
    "import pandas as pd\n",
    "import numpy as np\n",
    "from sklearn.preprocessing import LabelEncoder\n",
    "from sklearn.decomposition import PCA\n",
    "from sklearn.model_selection import train_test_split\n",
    "from sklearn.discriminant_analysis import LinearDiscriminantAnalysis\n",
    "\n",
    "\n",
    "# Load the dataset\n",
    "spam = pd.read_csv(\"data/spam.csv\")\n",
    "\n",
    "# Encode categorical variables\n",
    "categorical_columns = spam.select_dtypes(include = ['object', 'category']).columns.tolist()\n",
    "label_encoders = {col: LabelEncoder() for col in categorical_columns}\n",
    "for col in categorical_columns:\n",
    "    spam[col] = label_encoders[col].fit_transform(spam[col])\n",
    "\n",
    "# Define features and target\n",
    "X = spam.drop('yesno', axis = 1)\n",
    "y = spam['yesno']\n",
    "\n",
    "# Split the data\n",
    "X_train, X_test, y_train, y_test = train_test_split(X, y, test_size = 0.2, random_state = 42)\n",
    "\n",
    "# Reduce dimensionality\n",
    "pca = PCA(n_components = 2)\n",
    "X_train_pca = pca.fit_transform(X_train)\n",
    "X_test_pca = pca.transform(X_test)"
   ]
  },
  {
   "cell_type": "markdown",
   "metadata": {},
   "source": [
    "## Step 2: Model Training and Decision Boundary Visualization\n",
    "\n",
    "- Train a Decision Tree classifier on the PCA-transformed training data.\n",
    "\n",
    "- Implement and use the `decisionplot` function (from the lecture) to visualize the decision boundary of your trained model."
   ]
  },
  {
   "cell_type": "code",
   "execution_count": null,
   "metadata": {},
   "outputs": [
    {
     "name": "stderr",
     "output_type": "stream",
     "text": [
      "C:\\Users\\tanya\\AppData\\Roaming\\Python\\Python312\\site-packages\\sklearn\\base.py:486: UserWarning: X has feature names, but DecisionTreeClassifier was fitted without feature names\n",
      "  warnings.warn(\n"
     ]
    },
    {
     "data": {
      "image/png": "[encoded data removed]",
      "text/plain": [
       "<Figure size 640x480 with 1 Axes>"
      ]
     },
     "metadata": {},
     "output_type": "display_data"
    }
   ],
   "source": [
    "def decisionplot(classifier, X, y):\n",
    "\n",
    "#| eval: false\n",
    "    from sklearn.tree import DecisionTreeClassifier\n",
    "import matplotlib.pyplot as plt\n",
    "\n",
    "# Train Decision Tree\n",
    "dtree = DecisionTreeClassifier()\n",
    "dtree.fit(X_train_pca, y_train)\n",
    "\n",
    "# Implement the decisionplot function (as provided in the lecture content)\n",
    "# Add the decisionplot function here\n",
    "\n",
    "def decisionplot(model, X, y, resolution=216):\n",
    "    # Split the data into features (X) and the class variable (y)\n",
    "    x_min, x_max = X.iloc[:, 0].min() - 1, X.iloc[:, 0].max() + 1\n",
    "    y_min, y_max = X.iloc[:, 1].min() - 1, X.iloc[:, 1].max() + 1\n",
    "    xx, yy = np.meshgrid(np.linspace(x_min, x_max, resolution),\n",
    "                         np.linspace(y_min, y_max, resolution))\n",
    "\n",
    "    # Predict outcomes for each point on the grid\n",
    "    if isinstance(model, LinearDiscriminantAnalysis):\n",
    "        # For LDA, we need to use the decision_function method\n",
    "        Z = model.decision_function(np.c_[xx.ravel(), yy.ravel()])\n",
    "    else:\n",
    "        Z = model.predict(np.c_[xx.ravel(), yy.ravel()])\n",
    "    \n",
    "    if isinstance(model, LinearDiscriminantAnalysis):\n",
    "    # Reshape LDA decision function output appropriately\n",
    "        Z = Z.reshape(-1, 1)\n",
    "    else:\n",
    "        Z = Z.reshape(xx.shape)\n",
    "\n",
    "    # Plot the actual data points\n",
    "    plt.scatter(X.iloc[:, 0], X.iloc[:, 1], c=y, edgecolors='k', s=20)\n",
    "\n",
    "    # Overlay the decision boundary\n",
    "    plt.contourf(xx, yy, Z, alpha = 0.5)\n",
    "    \n",
    "    # Calculate the accuracy\n",
    "    predictions = model.predict(X)\n",
    "    acc = accuracy_score(y, predictions)\n",
    "    \n",
    "  \n",
    "    # Set labels for axes\n",
    "    plt.xlabel(X.columns[0])\n",
    "    plt.ylabel(X.columns[1])\n",
    "\n",
    "    plt.show()\n",
    "\n",
    "# Visualize decision boundary\n",
    "decisionplot(dtree, pd.DataFrame(X_train_pca, columns = ['PC1', 'PC2']), y_train)\n"
   ]
  },
  {
   "cell_type": "markdown",
   "metadata": {},
   "source": [
    "## Step 3: Model Evaluation\n",
    "\n",
    "- Evaluate your model using accuracy, precision, recall, F1 score, and AUC-ROC metrics."
   ]
  },
  {
   "cell_type": "code",
   "execution_count": null,
   "metadata": {},
   "outputs": [
    {
     "name": "stdout",
     "output_type": "stream",
     "text": [
      "Accuracy: 0.81\n",
      "Precision: 0.81\n",
      "Recall: 0.81\n",
      "F1 Score: 0.80\n"
     ]
    }
   ],
   "source": [
    "#| eval: false\n",
    "from sklearn.metrics import accuracy_score, precision_score, recall_score, f1_score, roc_auc_score, roc_curve, auc\n",
    "from sklearn.preprocessing import label_binarize\n",
    "\n",
    "# Predictions\n",
    "predictions = dtree.predict(X_test_pca)\n",
    "\n",
    "# Evaluate metrics\n",
    "accuracy = accuracy_score(y_test, predictions)\n",
    "precision = precision_score(y_test, predictions, average = 'weighted')\n",
    "recall = recall_score(y_test, predictions, average = 'weighted')\n",
    "f1 = f1_score(y_test, predictions, average = 'weighted')\n",
    "\n",
    "# Display results\n",
    "print(f\"Accuracy: {accuracy:.2f}\")\n",
    "print(f\"Precision: {precision:.2f}\")\n",
    "print(f\"Recall: {recall:.2f}\")\n",
    "print(f\"F1 Score: {f1:.2f}\")\n",
    "\n",
    "# For AUC-ROC, binarize the output and calculate AUC-ROC for each class"
   ]
  },
  {
   "cell_type": "markdown",
   "metadata": {},
   "source": [
    "## Assignment:\n",
    "- Implement the missing parts of the code: the decisionplot function and AUC-ROC calculation.\n",
    "\n",
    "- Discuss the results among your peers. Consider the following:\n",
    "\n",
    "    - Which metric is most informative for this problem and why?\n",
    "\n",
    "    - How does the decision boundary visualization help in understanding the model’s performance?\n",
    "\n",
    "    - Reflect on the impact of PCA on model performance and decision boundary.\n",
    "\n"
   ]
  }
 ],
 "metadata": {
  "kernelspec": {
   "display_name": "Python 3",
   "language": "python",
   "name": "python3"
  },
  "language_info": {
   "codemirror_mode": {
    "name": "ipython",
    "version": 3
   },
   "file_extension": ".py",
   "mimetype": "text/x-python",
   "name": "python",
   "nbconvert_exporter": "python",
   "pygments_lexer": "ipython3",
   "version": "3.12.1"
  }
 },
 "nbformat": 4,
 "nbformat_minor": 2
}
